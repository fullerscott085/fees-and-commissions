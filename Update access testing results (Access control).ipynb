{
 "cells": [
  {
   "cell_type": "code",
   "execution_count": 1,
   "metadata": {
    "collapsed": false
   },
   "outputs": [
    {
     "name": "stdout",
     "output_type": "stream",
     "text": [
      "dONE\n",
      "dONE\n",
      "dONE\n",
      "dONE\n",
      "('2018-04-09')\n",
      "dONE\n"
     ]
    }
   ],
   "source": [
    "import pyodbc\n",
    "import pandas as pd\n",
    "import datetime\n",
    "\n",
    "pd.set_option('display.width', 1000)\n",
    "\n",
    "connection_results_db = pyodbc.connect('Driver={Microsoft Access Driver (*.mdb, *.accdb)};'\n",
    "                                       'Dbq=S:\\\\Audit\\\\Automated testing\\\\Access controls\\\\Results\\\\results_clean.accdb;')\n",
    "cur = connection_results_db.cursor()\n",
    "print('dONE')\n",
    "# To get update the \"results_transposed\" table we check for where the date tested does not exist in the \n",
    "# \"result_detail\" table.\n",
    "dates_in_result_detail = pd.read_sql(sql=\"\"\"select distinct DAY_TESTING_PERFORMED from result_detail\"\"\", \n",
    "                         con=connection_results_db)['DAY_TESTING_PERFORMED'].tolist()\n",
    "print('dONE')\n",
    "dates_in_results_transposed = pd.read_sql(sql=\"\"\"select distinct DAY_TESTING_PERFORMED from results_transposed\"\"\", \n",
    "                         con=connection_results_db)['DAY_TESTING_PERFORMED'].tolist()\n",
    "print('dONE')\n",
    "dates_to_update = [d for d in dates_in_result_detail if d not in dates_in_results_transposed]\n",
    "print('dONE')\n",
    "if len(dates_to_update) == 1:\n",
    "    dates_to_update = \"('\" + dates_to_update[0] + \"')\"\n",
    "else:\n",
    "    dates_to_update = tuple(dates_to_update)\n",
    "\n",
    "print(dates_to_update)\n",
    "\n",
    "df_results = pd.read_sql(sql=\"\"\"select * from result_detail where DAY_TESTING_PERFORMED in {0}\"\"\".format(dates_to_update), \n",
    "                        con=connection_results_db)\n",
    "print('dONE')"
   ]
  },
  {
   "cell_type": "code",
   "execution_count": 2,
   "metadata": {
    "collapsed": false
   },
   "outputs": [],
   "source": [
    "melt_columns = [col for col in df_results.columns if col not in ['RESULT_DORMANT_ACCOUNT', \n",
    "                                                                 'RESULT_TERM_STAFF_ACTIVE', \n",
    "                                                                 'RESULT_GENERIC_ACCOUNT_SCORE', \n",
    "                                                                 'RESULT_INACTIVE_ACCOUNT',\n",
    "                                                                 'RESULT_DATA_ISSUE_00', \n",
    "                                                                 'RESULT_DATA_ISSUE_01', \n",
    "                                                                 'RESULT_DUPLICATE_USER_ID', \n",
    "                                                                 'RESULT_DUPLICATE_USER_NAME', \n",
    "                                                                 'RESULT_ACTIVE_UNDEFINED_ENTITY', \n",
    "                                                                 'RESULT_IS_SUPERUSER']]\n",
    "df_new = df_results.melt(id_vars =melt_columns, \n",
    "                var_name='TEST_PERFORMED', \n",
    "                value_name='RESULT').sort_values('STAFF_EMPLOYEECODE').reset_index(drop=True)"
   ]
  },
  {
   "cell_type": "code",
   "execution_count": 3,
   "metadata": {
    "collapsed": false
   },
   "outputs": [
    {
     "data": {
      "text/plain": [
       "array(['Terminated staff with active accounts', 'Duplicate user id',\n",
       "       'Active but undefined', 'Data issue II', 'Inactive accounts',\n",
       "       'Data issue I', 'Dormant accounts', 'Superusers',\n",
       "       'Generic accounts', 'Duplicate user name'], dtype=object)"
      ]
     },
     "execution_count": 3,
     "metadata": {},
     "output_type": "execute_result"
    }
   ],
   "source": [
    "new_names_mapping = {'RESULT_DORMANT_ACCOUNT': 'Dormant accounts', \n",
    "                     'RESULT_TERM_STAFF_ACTIVE': 'Terminated staff with active accounts',\n",
    "                     'RESULT_GENERIC_ACCOUNT_SCORE': 'Generic accounts',\n",
    "                     'RESULT_INACTIVE_ACCOUNT': 'Inactive accounts',\n",
    "                     'RESULT_DATA_ISSUE_00': 'Data issue I',\n",
    "                     'RESULT_DATA_ISSUE_01': 'Data issue II',\n",
    "                     'RESULT_DUPLICATE_USER_ID': 'Duplicate user id',\n",
    "                     'RESULT_DUPLICATE_USER_NAME': 'Duplicate user name',  \n",
    "                     'RESULT_ACTIVE_UNDEFINED_ENTITY': 'Active but undefined', \n",
    "                     'RESULT_IS_SUPERUSER': 'Superusers'}\n",
    "\n",
    "df_new = df_new.replace({'TEST_PERFORMED': new_names_mapping})\n",
    "df_new['TEST_PERFORMED'].unique()"
   ]
  },
  {
   "cell_type": "code",
   "execution_count": 4,
   "metadata": {
    "collapsed": false
   },
   "outputs": [],
   "source": [
    "df_new_export_columns = df_new[['DAY_TESTING_PERFORMED', \n",
    "                                'USER_SOURCE_APPLICATION',\n",
    "                                'USER_ID', \n",
    "                                'TEST_PERFORMED', \n",
    "                                'RESULT', \n",
    "                                'RESULT_IS_EMPLOYEE']].sort_values('DAY_TESTING_PERFORMED', ascending=True).reset_index(drop=True)\n",
    "\n",
    "df_new_export_columns = df_new_export_columns.astype(str)"
   ]
  },
  {
   "cell_type": "code",
   "execution_count": 5,
   "metadata": {
    "collapsed": false
   },
   "outputs": [
    {
     "name": "stderr",
     "output_type": "stream",
     "text": [
      " 99% (50403 of 50420) |################################################# | Elapsed Time: 0:05:45 ETA: 0:00:00"
     ]
    }
   ],
   "source": [
    "import progressbar \n",
    "import time\n",
    "bar = progressbar.ProgressBar(max_value=len(df_new_export_columns))\n",
    "\n",
    "for date in df_new_export_columns['DAY_TESTING_PERFORMED'].unique().tolist():\n",
    "    df_new_export_columns_date = df_new_export_columns[df_new_export_columns['DAY_TESTING_PERFORMED'] ==  date]\n",
    "\n",
    "    for index, row, in df_new_export_columns_date.iterrows():\n",
    "\n",
    "        cur.execute(\"\"\"INSERT INTO results_transposed values {0}\"\"\".format(tuple(row)))\n",
    "        cur.commit()\n",
    "        bar.update(index)\n"
   ]
  },
  {
   "cell_type": "code",
   "execution_count": null,
   "metadata": {
    "collapsed": true
   },
   "outputs": [],
   "source": []
  }
 ],
 "metadata": {
  "kernelspec": {
   "display_name": "Python 3",
   "language": "python",
   "name": "python3"
  },
  "language_info": {
   "codemirror_mode": {
    "name": "ipython",
    "version": 3
   },
   "file_extension": ".py",
   "mimetype": "text/x-python",
   "name": "python",
   "nbconvert_exporter": "python",
   "pygments_lexer": "ipython3",
   "version": "3.6.0"
  }
 },
 "nbformat": 4,
 "nbformat_minor": 2
}
